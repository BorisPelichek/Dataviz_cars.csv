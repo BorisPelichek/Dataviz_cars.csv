{
 "cells": [
  {
   "cell_type": "markdown",
   "id": "terminal-astronomy",
   "metadata": {
    "heading_collapsed": true,
    "slideshow": {
     "slide_type": "slide"
    }
   },
   "source": [
    "##  Exploratory Data Analysis - Car.csv Dataset"
   ]
  },
  {
   "cell_type": "markdown",
   "id": "infinite-bleeding",
   "metadata": {
    "hidden": true,
    "slideshow": {
     "slide_type": "subslide"
    }
   },
   "source": [
    "<div class=\"list-group\" id=\"list-tab\" role=\"tablist\">\n",
    "  <h3 class=\"list-group-item list-group-item-action active\" data-toggle=\"list\"  role=\"tab\" aria-controls=\"home\" >Table of Contents</h3>\n",
    "  <a class=\"list-group-item list-group-item-action\" data-toggle=\"list\" href=\"#1.-Features-Description\" role=\"tab\" aria-controls=\"profile\">Features Description<span class=\"badge badge-primary badge-pill\">1</span></a>\n",
    "  <a class=\"list-group-item list-group-item-action\" data-toggle=\"list\" href=\"#2.-Importing-Packages-/-Libraries\" role=\"tab\" aria-controls=\"messages\">Importing Packages / Libraries<span class=\"badge badge-primary badge-pill\">2</span></a>\n",
    "  <a class=\"list-group-item list-group-item-action\"  data-toggle=\"list\" href=\"#3.-Loading-the-Dataset\" role=\"tab\" aria-controls=\"settings\">Loading the Dataset<span class=\"badge badge-primary badge-pill\">3</span></a>\n",
    "  <a class=\"list-group-item list-group-item-action\" data-toggle=\"list\" href=\"#4.-Data-Cleaning\" role=\"tab\" aria-controls=\"settings\">Data Cleaning<span class=\"badge badge-primary badge-pill\">4</span></a> \n",
    "  <a class=\"list-group-item list-group-item-action\" data-toggle=\"list\" href=\"#5.-Univariate-Analysis\" role=\"tab\" aria-controls=\"settings\">Univariate Analysis<span class=\"badge badge-primary badge-pill\">5</span></a>\n",
    "  <a class=\"list-group-item list-group-item-action\" data-toggle=\"list\" href=\"#6.-Bivariate-Analysis\" role=\"tab\" aria-controls=\"settings\">Bivariate Analysis<span class=\"badge badge-primary badge-pill\">6</span></a>\n",
    "  <a class=\"list-group-item list-group-item-action\" data-toggle=\"list\" href=\"#7.-Multivariate-Analysis\" role=\"tab\" aria-controls=\"settings\">Multivariate Analysis<span class=\"badge badge-primary badge-pill\">7</span></a>\n",
    "  <a class=\"list-group-item list-group-item-action\" data-toggle=\"list\" href=\"#8.-Conclusion\" role=\"tab\" aria-controls=\"settings\">Conclusion<span class=\"badge badge-primary badge-pill\">8</span></a></div>"
   ]
  },
  {
   "cell_type": "markdown",
   "id": "transsexual-tattoo",
   "metadata": {
    "heading_collapsed": true,
    "hidden": true,
    "slideshow": {
     "slide_type": "slide"
    }
   },
   "source": [
    "### _Introduction:_"
   ]
  },
  {
   "cell_type": "markdown",
   "id": "expensive-chicken",
   "metadata": {
    "hidden": true,
    "slideshow": {
     "slide_type": "subslide"
    }
   },
   "source": [
    "<font size=\"3\">\n",
    "\n",
    "- This dataset basically includes information regarding cars like engine size, engine power, car dimensions, fuel type and their respective fuel consumption in miles per gallon (mpg) in both City and Highway.\n",
    "\n",
    "\n",
    "- The Exploratory Data Analysis for this dataset will use pandas for working with dataframes and seaborn and plotly for data visualization.\n",
    "\n",
    "\n",
    "- The dataset are avaliable on github in the following link:  [**CAR.csv**](https://github.com/BorisPelichek/Dataviz_cars.csv/tree/main/Dataset).\n",
    "    \n",
    "</font>"
   ]
  },
  {
   "cell_type": "markdown",
   "id": "verbal-housing",
   "metadata": {
    "heading_collapsed": true,
    "slideshow": {
     "slide_type": "slide"
    }
   },
   "source": [
    "## 1. Features Description"
   ]
  },
  {
   "cell_type": "markdown",
   "id": "gentle-feature",
   "metadata": {
    "hidden": true,
    "slideshow": {
     "slide_type": "subslide"
    }
   },
   "source": [
    "<div class=\"list-group\" id=\"list-tab\" role=\"tablist\">\n",
    "  <h3 class=\"list-group-item list-group-item-action active\" data-toggle=\"list\"  role=\"tab\" aria-controls=\"home\"  style=\"text-align: center; vertical-align: middle;\">Features Summary</h3>\n",
    "\n",
    "<font size=\"4\">\n",
    "<table style=\"float:left; font-size:80%\" style=\"width:100%\" width = 985px>\n",
    "    \n",
    "<colgroup><col span=\"1\" style=\"width: 20%;\"><col span=\"1\" style=\"width: 20%;\"><col span=\"1\" style=\"width: 60%;\"></colgroup>\n",
    "    \n",
    "<tr><th style=\"text-align: center; vertical-align: middle;\">Variable</th><th style=\"text-align: center; vertical-align: middle;\">Variable Type</th><th style=\"text-align: center; vertical-align: middle;\">Variable Description</th></tr><tr>\n",
    "<td style=\"text-align: center; vertical-align: middle;\">City MPG</td><td style=\"text-align: center; vertical-align: middle;\">Continuous Quantitative</td><td style=\"text-align: center; vertical-align: middle;\">Fuel Information: The miles-per-gallon this car gets on average in cities.</td></tr>\n",
    "<tr><td style=\"text-align: center; vertical-align: middle;\">Highway MPG</td><td style=\"text-align: center; vertical-align: middle;\">Continuous Quantitative</td><td style=\"text-align: center; vertical-align: middle;\">Fuel Information: The miles-per-gallon this car gets on average on highways.</td></tr>\n",
    "<tr><td style=\"text-align: center; vertical-align: middle;\">Fuel Type</td><td style=\"text-align: center; vertical-align: middle;\">Nominal Qualitative</td><td style=\"text-align: center; vertical-align: middle;\">Fuel Information: \"Gasoline\", \"Diesel fuel\", \"Compressed natural gas\", or \"E85\".</td></tr>\n",
    "<tr><td style=\"text-align: center; vertical-align: middle;\">Horsepower</td><td style=\"text-align: center; vertical-align: middle;\">Continuous Quantitative</td><td style=\"text-align: center; vertical-align: middle;\">Engine Information: A measure of the engine's power.</td></tr>   \n",
    "<tr><td style=\"text-align: center; vertical-align: middle;\">Torque</td><td style=\"text-align: center; vertical-align: middle;\">Continuous Quantitative</td><td style=\"text-align: center; vertical-align: middle;\">Engine Information: The torque of the engine, measured in lb/ft.</td></tr>     \n",
    "<tr><td style=\"text-align: center; vertical-align: middle;\">Number of Forward Gears</td><td style=\"text-align: center; vertical-align: middle;\">Discrete Quantitative</td><td style=\"text-align: center; vertical-align: middle;\">Engine Information: The number of forward gears.</td></tr>\n",
    "<tr><td style=\"text-align: center; vertical-align: middle;\">Driveline</td><td style=\"text-align: center; vertical-align: middle;\">Nominal Qualitative</td><td style=\"text-align: center; vertical-align: middle;\">Engine Information: Whether this is \"Rear-wheel drive\", \"Front-wheel drive\", or \"All-wheel drive\".</td></tr>\n",
    "<tr><td style=\"text-align: center; vertical-align: middle;\">Engine Type</td><td style=\"text-align: center; vertical-align: middle;\">Nominal Qualitative</td><td style=\"text-align: center; vertical-align: middle;\">Engine Information: The full description of the car engine.</td></tr>\n",
    "<tr><td style=\"text-align: center; vertical-align: middle;\">Transmission</td><td style=\"text-align: center; vertical-align: middle;\">Nominal Qualitative</td><td style=\"text-align: center; vertical-align: middle;\">Engine Information: The full name of transmission type.</td></tr>\n",
    "<tr><td style=\"text-align: center; vertical-align: middle;\">Hybrid</td><td style=\"text-align: center; vertical-align: middle;\">Binary</td><td style=\"text-align: center; vertical-align: middle;\">Engine Information: If the car uses both an internal combustion engine and an electric motor.</td></tr>\n",
    "<tr><td style=\"text-align: center; vertical-align: middle;\">Height</td><td style=\"text-align: center; vertical-align: middle;\">Continuous Quantitative</td><td style=\"text-align: center; vertical-align: middle;\">Dimension: The height of the car.</td></tr>\n",
    "<tr><td style=\"text-align: center; vertical-align: middle;\">Length</td><td style=\"text-align: center; vertical-align: middle;\">Continuous Quantitative</td><td style=\"text-align: center; vertical-align: middle;\">Dimension: The length of the car.</td></tr>\n",
    "<tr><td style=\"text-align: center; vertical-align: middle;\">Width</td><td style=\"text-align: center; vertical-align: middle;\">Continuous Quantitative</td><td style=\"text-align: center; vertical-align: middle;\">Dimension: The width of the car.</td></tr>\n",
    "<tr><td style=\"text-align: center; vertical-align: middle;\">ID</td><td style=\"text-align: center; vertical-align: middle;\">Nominal Qualitative</td><td style=\"text-align: center; vertical-align: middle;\">Identification: A unique ID for this particular car, using the year, make, model, and transmission type.</td></tr>\n",
    "<tr><td style=\"text-align: center; vertical-align: middle;\">Classification</td><td style=\"text-align: center; vertical-align: middle;\">Nominal Qualitative</td><td style=\"text-align: center; vertical-align: middle;\">Identification: Whether this is a \"Manual transmission\" or an \"Automatic transmission\".</td></tr>\n",
    "<tr><td style=\"text-align: center; vertical-align: middle;\">Make</td><td style=\"text-align: center; vertical-align: middle;\">Nominal Qualitative</td><td style=\"text-align: center; vertical-align: middle;\">Identification: The maker for the car.</td></tr>\n",
    "<tr><td style=\"text-align: center; vertical-align: middle;\">Model Year</td><td style=\"text-align: center; vertical-align: middle;\">Nominal Qualitative</td><td style=\"text-align: center; vertical-align: middle;\">Identification: The specific name/year for this car.</td></tr>\n",
    "<tr><td style=\"text-align: center; vertical-align: middle;\">Year</td><td style=\"text-align: center; vertical-align: middle;\">Discrete Quantitative</td><td style=\"text-align: center; vertical-align: middle;\">Identification: The specific name/year for this car.</td></tr>\n",
    "</table></font></div>"
   ]
  },
  {
   "cell_type": "markdown",
   "id": "considerable-impossible",
   "metadata": {
    "heading_collapsed": true,
    "slideshow": {
     "slide_type": "slide"
    }
   },
   "source": [
    "## 2. Importing Packages / Libraries"
   ]
  },
  {
   "cell_type": "markdown",
   "id": "foreign-morris",
   "metadata": {
    "heading_collapsed": true,
    "hidden": true,
    "slideshow": {
     "slide_type": "subslide"
    }
   },
   "source": [
    "#### `Data handling:`"
   ]
  },
  {
   "cell_type": "code",
   "execution_count": null,
   "id": "hispanic-listening",
   "metadata": {
    "hidden": true,
    "slideshow": {
     "slide_type": "subslide"
    }
   },
   "outputs": [],
   "source": [
    "import pandas as pd # Data Manipulation\n",
    "import numpy as np # Multi-dimensional array object"
   ]
  },
  {
   "cell_type": "markdown",
   "id": "geographic-consortium",
   "metadata": {
    "heading_collapsed": true,
    "hidden": true,
    "slideshow": {
     "slide_type": "subslide"
    }
   },
   "source": [
    "#### `Data Visualization:`"
   ]
  },
  {
   "cell_type": "code",
   "execution_count": null,
   "id": "recreational-jackson",
   "metadata": {
    "hidden": true,
    "slideshow": {
     "slide_type": "subslide"
    }
   },
   "outputs": [],
   "source": [
    "import seaborn as sns\n",
    "import matplotlib.pyplot as plt\n",
    "import plotly.graph_objs as go\n",
    "import plotly.express as px\n",
    "from plotly.subplots import make_subplots"
   ]
  },
  {
   "cell_type": "markdown",
   "id": "damaged-artist",
   "metadata": {
    "heading_collapsed": true
   },
   "source": [
    "## 3. Loading the Dataset"
   ]
  },
  {
   "cell_type": "markdown",
   "id": "selected-airfare",
   "metadata": {
    "heading_collapsed": true,
    "hidden": true
   },
   "source": [
    "### _Dataset: cars.csv_"
   ]
  },
  {
   "cell_type": "markdown",
   "id": "executed-forward",
   "metadata": {
    "heading_collapsed": true,
    "hidden": true
   },
   "source": [
    "#### `Loading the CSV file into a pandas dataframe:`"
   ]
  },
  {
   "cell_type": "code",
   "execution_count": null,
   "id": "hundred-awareness",
   "metadata": {
    "hidden": true
   },
   "outputs": [],
   "source": [
    "file_path = 'https://raw.githubusercontent.com/BorisPelichek/Dataviz_cars.csv/main/Dataset/cars.csv'\n",
    "base = pd.read_csv(file_path)"
   ]
  },
  {
   "cell_type": "markdown",
   "id": "accredited-powder",
   "metadata": {
    "heading_collapsed": true,
    "hidden": true
   },
   "source": [
    "#### `Visualizating some data:`"
   ]
  },
  {
   "cell_type": "code",
   "execution_count": null,
   "id": "educational-pricing",
   "metadata": {
    "hidden": true
   },
   "outputs": [],
   "source": [
    "base.sample(5)"
   ]
  },
  {
   "cell_type": "markdown",
   "id": "induced-yugoslavia",
   "metadata": {
    "heading_collapsed": true,
    "hidden": true
   },
   "source": [
    "### _Shape of the Data:_"
   ]
  },
  {
   "cell_type": "code",
   "execution_count": null,
   "id": "dimensional-particular",
   "metadata": {
    "hidden": true
   },
   "outputs": [],
   "source": [
    "print(\"Row Count:\",base.shape[0])\n",
    "print(\"Column Count:\",base.shape[1])"
   ]
  },
  {
   "cell_type": "markdown",
   "id": "committed-mention",
   "metadata": {
    "heading_collapsed": true,
    "hidden": true
   },
   "source": [
    "### _Checking the Data Type:_"
   ]
  },
  {
   "cell_type": "markdown",
   "id": "powerful-numbers",
   "metadata": {
    "hidden": true
   },
   "source": [
    "- Checking for the data types because sometimes the data is stored in a wrong type. If so, we will need to convert it in order to plot the data."
   ]
  },
  {
   "cell_type": "code",
   "execution_count": null,
   "id": "robust-archive",
   "metadata": {
    "hidden": true
   },
   "outputs": [],
   "source": [
    "base.dtypes"
   ]
  },
  {
   "cell_type": "markdown",
   "id": "italian-cardiff",
   "metadata": {
    "heading_collapsed": true,
    "hidden": true
   },
   "source": [
    "### _Descriptive Statistics_"
   ]
  },
  {
   "cell_type": "markdown",
   "id": "pediatric-harris",
   "metadata": {
    "hidden": true
   },
   "source": [
    "- First view of data statistics prior to data cleaning"
   ]
  },
  {
   "cell_type": "code",
   "execution_count": null,
   "id": "entire-proposal",
   "metadata": {
    "hidden": true
   },
   "outputs": [],
   "source": [
    "pd.set_option('display.float_format', '{:.1f}'.format)\n",
    "base.describe().transpose()"
   ]
  },
  {
   "cell_type": "code",
   "execution_count": null,
   "id": "impressive-repository",
   "metadata": {
    "hidden": true
   },
   "outputs": [],
   "source": [
    "base.describe(include=['object'])"
   ]
  },
  {
   "cell_type": "markdown",
   "id": "functioning-plasma",
   "metadata": {
    "heading_collapsed": true
   },
   "source": [
    "## 4. Data Cleaning"
   ]
  },
  {
   "cell_type": "markdown",
   "id": "minimal-liberty",
   "metadata": {
    "heading_collapsed": true,
    "hidden": true
   },
   "source": [
    "### _Checking for Missing  or Null Values:_"
   ]
  },
  {
   "cell_type": "markdown",
   "id": "separate-psychiatry",
   "metadata": {
    "hidden": true
   },
   "source": [
    "- Check for missing values to ensure that we won't have any problems during plotting the graphs. "
   ]
  },
  {
   "cell_type": "code",
   "execution_count": null,
   "id": "mechanical-astronomy",
   "metadata": {
    "hidden": true
   },
   "outputs": [],
   "source": [
    "base.isna().sum()"
   ]
  },
  {
   "cell_type": "markdown",
   "id": "seventh-ghost",
   "metadata": {
    "heading_collapsed": true,
    "hidden": true
   },
   "source": [
    "### _Dropping duplicate rows:_"
   ]
  },
  {
   "cell_type": "markdown",
   "id": "intimate-society",
   "metadata": {
    "hidden": true
   },
   "source": [
    "- Duplicate data might be disturbing, so we will remove all the duplicate values by the ID from the data set."
   ]
  },
  {
   "cell_type": "code",
   "execution_count": null,
   "id": "essential-catalyst",
   "metadata": {
    "hidden": true
   },
   "outputs": [],
   "source": [
    "duplicate_rows = base[base.duplicated('ID')]\n",
    "print(\"number of duplicate rows: \", duplicate_rows.shape[0])"
   ]
  },
  {
   "cell_type": "code",
   "execution_count": null,
   "id": "welcome-element",
   "metadata": {
    "hidden": true
   },
   "outputs": [],
   "source": [
    "base.drop_duplicates('ID', inplace= True)"
   ]
  },
  {
   "cell_type": "markdown",
   "id": "connected-webster",
   "metadata": {
    "heading_collapsed": true,
    "hidden": true
   },
   "source": [
    "### _Extracting Two New Features: Engine Cylinder and Displacement_"
   ]
  },
  {
   "cell_type": "markdown",
   "id": "expensive-classification",
   "metadata": {
    "hidden": true
   },
   "source": [
    "- The feature \"Engine Type\" contains some important features regarding the engine size, so let's extract it."
   ]
  },
  {
   "cell_type": "code",
   "execution_count": null,
   "id": "together-battlefield",
   "metadata": {
    "hidden": true
   },
   "outputs": [],
   "source": [
    "base['Engine Type'][0]"
   ]
  },
  {
   "cell_type": "markdown",
   "id": "handmade-identifier",
   "metadata": {
    "heading_collapsed": true,
    "hidden": true
   },
   "source": [
    "#### **`Engine Cylinder`**"
   ]
  },
  {
   "cell_type": "code",
   "execution_count": null,
   "id": "polish-objective",
   "metadata": {
    "hidden": true
   },
   "outputs": [],
   "source": [
    "base['Cylinder'] = base['Engine Type'].str.upper().str.replace(' ', '', regex=False).\\\n",
    "str.extract('(L?\\d\\d?(?=CY))')[0].str.replace('L', '', regex=False)"
   ]
  },
  {
   "cell_type": "markdown",
   "id": "several-dance",
   "metadata": {
    "hidden": true
   },
   "source": [
    "- There are only 16 observations without the information of the number of cylinders, so let's fill it:"
   ]
  },
  {
   "cell_type": "code",
   "execution_count": null,
   "id": "statutory-gregory",
   "metadata": {
    "hidden": true
   },
   "outputs": [],
   "source": [
    "base['Cylinder'].isna().sum()"
   ]
  },
  {
   "cell_type": "code",
   "execution_count": null,
   "id": "wired-turner",
   "metadata": {
    "hidden": true
   },
   "outputs": [],
   "source": [
    "mask1 = (base['Cylinder'].isna()) & (base['Make'] == 'Mazda')\n",
    "mask2 = (base['Cylinder'].isna()) & (base['Make'] == 'Aston Martin')\n",
    "mask3 = (base['Cylinder'].isna()) & (base['Make'] == 'Volkswagen')\n",
    "mask4 = (base['Cylinder'].isna()) & (base['Make'] == 'Lexus')\n",
    "base.loc[mask1, 'Cylinder'] = base.loc[mask1, 'Cylinder'].fillna(value = '0')\n",
    "base.loc[mask2, 'Cylinder'] = base.loc[mask2, 'Cylinder'].fillna(value = '12')\n",
    "base.loc[mask3, 'Cylinder'] = base.loc[mask3, 'Cylinder'].fillna(value = '6')\n",
    "base.loc[mask4, 'Cylinder'] = base.loc[mask4, 'Cylinder'].fillna(value = '10')\n",
    "base['Cylinder'] = base.Cylinder.astype('int')"
   ]
  },
  {
   "cell_type": "code",
   "execution_count": null,
   "id": "protected-representative",
   "metadata": {
    "hidden": true
   },
   "outputs": [],
   "source": [
    "base['Cylinder'].isna().sum()"
   ]
  },
  {
   "cell_type": "markdown",
   "id": "functional-atmosphere",
   "metadata": {
    "heading_collapsed": true,
    "hidden": true
   },
   "source": [
    "#### **`Engine Displacement`**"
   ]
  },
  {
   "cell_type": "code",
   "execution_count": null,
   "id": "pleasant-mills",
   "metadata": {
    "hidden": true
   },
   "outputs": [],
   "source": [
    "base['Displacement'] = base['Engine Type'].str.upper().str.replace(' ', '', regex=False).\\\n",
    "str.extract('(\\d.\\dL|\\dL|\\d\\W)')[0].str.replace('L', '', regex=False)\n",
    "base['Displacement'] = base.Displacement.astype('float')"
   ]
  },
  {
   "cell_type": "markdown",
   "id": "pediatric-mumbai",
   "metadata": {
    "hidden": true
   },
   "source": [
    "- There are no missing values:"
   ]
  },
  {
   "cell_type": "code",
   "execution_count": null,
   "id": "authorized-bowling",
   "metadata": {
    "hidden": true
   },
   "outputs": [],
   "source": [
    "base['Displacement'].isna().sum()"
   ]
  },
  {
   "cell_type": "markdown",
   "id": "convinced-reach",
   "metadata": {
    "heading_collapsed": true,
    "hidden": true
   },
   "source": [
    "### _Renaming the columns_"
   ]
  },
  {
   "cell_type": "markdown",
   "id": "increasing-maintenance",
   "metadata": {
    "hidden": true
   },
   "source": [
    "- Renaming the columns in order to improve the readability of the dataset."
   ]
  },
  {
   "cell_type": "code",
   "execution_count": null,
   "id": "convinced-reading",
   "metadata": {
    "hidden": true
   },
   "outputs": [],
   "source": [
    "base.columns"
   ]
  },
  {
   "cell_type": "code",
   "execution_count": null,
   "id": "residential-methodology",
   "metadata": {
    "hidden": true
   },
   "outputs": [],
   "source": [
    "base.rename(columns={\"City mpg\":\"C_MPG\", \"Engine Type\": \"Engine\",\"Fuel Type\": \"Fuel\",\"Highway mpg\": \"H_MPG\",\\\n",
    "                     \"Horsepower\": \"HP\", \"Model Year\": \"Model\", \"Number of Forward Gears\":\"Gears\"}, inplace= True)"
   ]
  },
  {
   "cell_type": "markdown",
   "id": "molecular-alabama",
   "metadata": {
    "heading_collapsed": true,
    "hidden": true
   },
   "source": [
    "### _Descriptive Statistics_"
   ]
  },
  {
   "cell_type": "markdown",
   "id": "forbidden-afternoon",
   "metadata": {
    "hidden": true
   },
   "source": [
    "- Showing some statistics about the dataset in order to get an idea of the data distribution."
   ]
  },
  {
   "cell_type": "markdown",
   "id": "dynamic-petroleum",
   "metadata": {
    "heading_collapsed": true,
    "hidden": true
   },
   "source": [
    "#### **`Numerical Variables:`**"
   ]
  },
  {
   "cell_type": "code",
   "execution_count": null,
   "id": "vertical-gathering",
   "metadata": {
    "hidden": true
   },
   "outputs": [],
   "source": [
    "pd.set_option('display.float_format', '{:.1f}'.format)\n",
    "base.describe().transpose()"
   ]
  },
  {
   "cell_type": "markdown",
   "id": "brazilian-service",
   "metadata": {
    "heading_collapsed": true,
    "hidden": true
   },
   "source": [
    "#### **`Categorical Variables:`**"
   ]
  },
  {
   "cell_type": "code",
   "execution_count": null,
   "id": "formed-visit",
   "metadata": {
    "hidden": true
   },
   "outputs": [],
   "source": [
    "base.describe(include=['object'])"
   ]
  },
  {
   "cell_type": "markdown",
   "id": "retired-federal",
   "metadata": {
    "heading_collapsed": true
   },
   "source": [
    "## 5. Univariate Analysis"
   ]
  },
  {
   "cell_type": "markdown",
   "id": "portuguese-massachusetts",
   "metadata": {
    "heading_collapsed": true,
    "hidden": true
   },
   "source": [
    "### _Detecting Outliers - Box Plot_"
   ]
  },
  {
   "cell_type": "markdown",
   "id": "lesbian-rates",
   "metadata": {
    "hidden": true
   },
   "source": [
    "- Outliers can be seen with visualizations using a box plot:"
   ]
  },
  {
   "cell_type": "markdown",
   "id": "thousand-campaign",
   "metadata": {
    "heading_collapsed": true,
    "hidden": true
   },
   "source": [
    "#### `Fuel Consumption:`"
   ]
  },
  {
   "cell_type": "code",
   "execution_count": null,
   "id": "static-answer",
   "metadata": {
    "hidden": true,
    "scrolled": false
   },
   "outputs": [],
   "source": [
    "fig = make_subplots(rows=1, cols=2)\n",
    "\n",
    "trace_0 = go.Box(y=base['C_MPG'], name= 'City MPG', fillcolor='blue', whiskerwidth=0.2)\n",
    "trace_1 = go.Box(y=base['H_MPG'], name='Highway MPG', fillcolor='red', whiskerwidth=0.2)\n",
    "\n",
    "fig.update_layout(title='Fuel Consumption Information', title_x=0.5, yaxis=dict(gridcolor='rgb(255, 255, 255)',gridwidth=3), \n",
    "                  paper_bgcolor='rgb(243, 243, 243)', plot_bgcolor='rgb(243, 243, 243)', \n",
    "                  height=400, width=900, showlegend=False, margin=dict(l=10,r=10,b=50,t=50))\n",
    "\n",
    "fig.update_yaxes(title_text = 'MPG', row=1, col=1, rangemode=\"tozero\", nticks=10)\n",
    "fig.update_yaxes(row=1, col=2, rangemode=\"tozero\", nticks=10)\n",
    "\n",
    "fig.append_trace(trace_0, 1, 1)\n",
    "fig.append_trace(trace_1, 1, 2)\n",
    "\n",
    "fig.show()"
   ]
  },
  {
   "cell_type": "markdown",
   "id": "academic-sucking",
   "metadata": {
    "hidden": true
   },
   "source": [
    "- The box plot above show us some outliers in both \"City MPG\" and \"Highway MPG\", but there is one outlier in Highway MPG with highly discrepancy (223,0 MPG), sounding like wrong data input. In order to not compromise the next data visuazlitions, let's correct this value."
   ]
  },
  {
   "cell_type": "code",
   "execution_count": null,
   "id": "guided-approach",
   "metadata": {
    "hidden": true
   },
   "outputs": [],
   "source": [
    "mask5 = (base['H_MPG'] == 223)\n",
    "base.loc[mask5, 'H_MPG'] = 23"
   ]
  },
  {
   "cell_type": "markdown",
   "id": "registered-stream",
   "metadata": {
    "heading_collapsed": true,
    "hidden": true
   },
   "source": [
    "#### `Engine Size:`"
   ]
  },
  {
   "cell_type": "code",
   "execution_count": null,
   "id": "transparent-florence",
   "metadata": {
    "hidden": true
   },
   "outputs": [],
   "source": [
    "fig = go.Figure()\n",
    "\n",
    "trace_2 = go.Box(y=base['Cylinder'], name= 'Cylinder', fillcolor='blue', whiskerwidth=0.2)\n",
    "trace_3 = go.Box(y=base['Displacement'], name='Displacement', fillcolor='red', whiskerwidth=0.2)\n",
    "trace_4 = go.Box(y=base['Gears'], name='Gears', fillcolor='green', whiskerwidth=0.2)\n",
    "\n",
    "fig.update_layout(title='Engine Information',title_x=0.5, yaxis=dict(gridcolor='rgb(255, 255, 255)',gridwidth=3,nticks =10), \n",
    "                  paper_bgcolor='rgb(243, 243, 243)', plot_bgcolor='rgb(243, 243, 243)', \n",
    "                  height=400, width=900, showlegend=False, margin=dict(l=10,r=10,b=50,t=50))\n",
    "\n",
    "fig.add_trace(trace_2), fig.add_trace(trace_3), fig.add_trace(trace_4)\n",
    "\n",
    "fig.show()"
   ]
  },
  {
   "cell_type": "markdown",
   "id": "oriented-criminal",
   "metadata": {
    "hidden": true
   },
   "source": [
    "- All right with engine size data."
   ]
  },
  {
   "cell_type": "markdown",
   "id": "adolescent-associate",
   "metadata": {
    "heading_collapsed": true,
    "hidden": true
   },
   "source": [
    "#### `Engine Power:`"
   ]
  },
  {
   "cell_type": "code",
   "execution_count": null,
   "id": "defined-immunology",
   "metadata": {
    "hidden": true
   },
   "outputs": [],
   "source": [
    "fig = go.Figure()\n",
    "\n",
    "trace_h = go.Box(y=base['HP'], name= 'Horsepower (hp)', fillcolor='blue', whiskerwidth=0.2)\n",
    "trace_t = go.Box(y=base['Torque'], name='Torque (lb⋅ft)', fillcolor='red', whiskerwidth=0.2)\n",
    "\n",
    "fig.update_layout(title='Engine Power',title_x=0.5, yaxis=dict(gridcolor='rgb(255, 255, 255)',gridwidth=3,nticks =10, \n",
    "                  rangemode=\"tozero\"), paper_bgcolor='rgb(243, 243, 243)', plot_bgcolor='rgb(243, 243, 243)', \n",
    "                  height=400, width=900, showlegend=False, margin=dict(l=10,r=10,b=50,t=50))\n",
    "\n",
    "fig.add_trace(trace_h), fig.add_trace(trace_t)\n",
    "\n",
    "fig.show()"
   ]
  },
  {
   "cell_type": "markdown",
   "id": "finnish-egypt",
   "metadata": {
    "hidden": true
   },
   "source": [
    "- All right with engine power data."
   ]
  },
  {
   "cell_type": "markdown",
   "id": "numerical-account",
   "metadata": {
    "heading_collapsed": true,
    "hidden": true
   },
   "source": [
    "#### `Dimension:`"
   ]
  },
  {
   "cell_type": "code",
   "execution_count": null,
   "id": "understood-senior",
   "metadata": {
    "hidden": true
   },
   "outputs": [],
   "source": [
    "fig = go.Figure()\n",
    "\n",
    "trace_5 = go.Box(y=base['Height'], name= 'Height (in)', fillcolor='blue', whiskerwidth=0.2)\n",
    "trace_6 = go.Box(y=base['Length'], name='Length (in)', fillcolor='red', whiskerwidth=0.2)\n",
    "trace_7 = go.Box(y=base['Width'], name='Width (in)', fillcolor='green', whiskerwidth=0.2)\n",
    "\n",
    "fig.update_layout(title='Dimension Information',title_x=0.5, yaxis=dict(gridcolor='rgb(255, 255, 255)',gridwidth=3,\n",
    "                  nticks =15), paper_bgcolor='rgb(243, 243, 243)', plot_bgcolor='rgb(243, 243, 243)', \n",
    "                  height=400, width=900, showlegend=False, margin=dict(l=10,r=10,b=50,t=50))\n",
    "\n",
    "fig.add_trace(trace_5), fig.add_trace(trace_6), fig.add_trace(trace_7)\n",
    "\n",
    "fig.show()"
   ]
  },
  {
   "cell_type": "markdown",
   "id": "killing-hello",
   "metadata": {
    "hidden": true
   },
   "source": [
    "- Usually, the cars dimensions are in between values according to the range below:<br><br>\n",
    "    Height: min 46 in - max 73 in<br>\n",
    "    Length: min 95 in - max 220 in<br>\n",
    "    Width : min 54 in - max 77 in<br><br>  \n",
    "- That way, according to the box plot above, it is clear that all three dimensions (Height, Length and Width) have a lot of incorrect data inputs. "
   ]
  },
  {
   "cell_type": "markdown",
   "id": "indie-choice",
   "metadata": {
    "heading_collapsed": true,
    "hidden": true
   },
   "source": [
    "### _Frequency - Histogram_"
   ]
  },
  {
   "cell_type": "markdown",
   "id": "powerful-thread",
   "metadata": {
    "hidden": true
   },
   "source": [
    "- Histogram refers to the underlying frequency distribution or the probability distribution of a single continuous numerical variable."
   ]
  },
  {
   "cell_type": "markdown",
   "id": "instructional-drill",
   "metadata": {
    "heading_collapsed": true,
    "hidden": true
   },
   "source": [
    "#### `Fuel Consumption:`"
   ]
  },
  {
   "cell_type": "code",
   "execution_count": null,
   "id": "exotic-brave",
   "metadata": {
    "hidden": true
   },
   "outputs": [],
   "source": [
    "fig = make_subplots(rows=1, cols=2)\n",
    "\n",
    "trace_8 = go.Histogram(x=base['C_MPG'].values, name='City MPG', )\n",
    "trace_9 = go.Histogram(x=base['H_MPG'].values, name= 'Highway MPG')\n",
    "\n",
    "fig.update_layout(title='Fuel Consumption Information', title_x=0.5, yaxis=dict(gridcolor='rgb(255, 255, 255)',gridwidth=3), \n",
    "                  paper_bgcolor='rgb(243, 243, 243)', plot_bgcolor='rgb(243, 243, 243)', margin=dict(l=10,r=10,b=50,t=50),\n",
    "                  height=400, width=900, showlegend=False, hovermode = 'x unified')\n",
    "\n",
    "# Update xaxis properties\n",
    "fig.update_xaxes(title_text = 'City MPG', row=1, col=1, nticks=20, ticks=\"outside\",rangemode=\"tozero\",\n",
    "                showgrid=False,showline=True, linewidth=1, linecolor='gray', tickangle=-90)\n",
    "\n",
    "fig.update_xaxes(title_text = 'Highway MPG', row=1, col=2, nticks=20, ticks=\"outside\", rangemode=\"tozero\",\n",
    "                showgrid=False, showline=True, linewidth=1, linecolor='gray', showspikes=True, tickangle=-90)\n",
    "\n",
    "# Update yaxis properties\n",
    "fig.update_yaxes(title_text = 'Count', row=1, col=1, nticks=20, ticks=\"outside\")\n",
    "fig.update_yaxes(row=1, col=2, nticks=15, ticks=\"outside\")\n",
    "\n",
    "fig.append_trace(trace_8, 1, 1)\n",
    "fig.append_trace(trace_9, 1, 2)\n",
    "\n",
    "fig.show()"
   ]
  },
  {
   "cell_type": "markdown",
   "id": "mineral-jenny",
   "metadata": {
    "hidden": true
   },
   "source": [
    "- Both City and Highway MPG follows a normal (or Gaussian) distribution."
   ]
  },
  {
   "cell_type": "markdown",
   "id": "distinct-sussex",
   "metadata": {
    "heading_collapsed": true,
    "hidden": true
   },
   "source": [
    "#### `Engine Power:`"
   ]
  },
  {
   "cell_type": "code",
   "execution_count": null,
   "id": "identified-luxury",
   "metadata": {
    "hidden": true
   },
   "outputs": [],
   "source": [
    "fig = make_subplots(rows=1, cols=2)\n",
    "\n",
    "trace_10 = go.Histogram(x=base['HP'].values, name='Horsepower', nbinsx = 30)\n",
    "trace_11 = go.Histogram(x=base['Torque'].values, name= 'Torque', nbinsx = 30)\n",
    "\n",
    "fig.update_layout(title='Engine Information', title_x=0.5, yaxis=dict(gridcolor='rgb(255, 255, 255)',gridwidth=3), \n",
    "                  paper_bgcolor='rgb(243, 243, 243)', plot_bgcolor='rgb(243, 243, 243)', \n",
    "                  height=400, width=900, showlegend=False, hovermode = 'x unified', margin=dict(l=10,r=10,b=50,t=50))\n",
    "\n",
    "# Update xaxis properties\n",
    "fig.update_xaxes(title_text = 'Horsepower', row=1, col=1, nticks=20, ticks=\"outside\", rangemode=\"tozero\",tickangle=-90,\n",
    "                showgrid=False,showline=True, linewidth=1, linecolor='gray', tickfont = dict(size = 10))\n",
    "\n",
    "fig.update_xaxes(title_text = 'Torque', row=1, col=2, nticks=20, ticks=\"outside\", tickangle=-90, rangemode=\"tozero\",\n",
    "                showgrid=False,showline=True, linewidth=1, linecolor='gray', tickfont = dict(size = 10))\n",
    "\n",
    "# Update yaxis properties\n",
    "fig.update_yaxes(row=1, col=1, nticks=15, ticks=\"outside\", title_text = 'Count')\n",
    "fig.update_yaxes(row=1, col=2, nticks=15, ticks=\"outside\")\n",
    "\n",
    "fig.append_trace(trace_10, 1, 1)\n",
    "fig.append_trace(trace_11, 1, 2)\n",
    "\n",
    "fig.show()"
   ]
  },
  {
   "cell_type": "markdown",
   "id": "neutral-lucas",
   "metadata": {
    "heading_collapsed": true,
    "hidden": true
   },
   "source": [
    "### _Categorical Variables - Bar and Pie Chart_"
   ]
  },
  {
   "cell_type": "markdown",
   "id": "registered-speech",
   "metadata": {
    "heading_collapsed": true,
    "hidden": true
   },
   "source": [
    "#### ` Identification - Maker:`"
   ]
  },
  {
   "cell_type": "code",
   "execution_count": null,
   "id": "younger-humanitarian",
   "metadata": {
    "hidden": true
   },
   "outputs": [],
   "source": [
    "fig = make_subplots(rows=1, cols=1)\n",
    "\n",
    "maker = base.groupby(['Make'])['Make'].count().sort_values(ascending= False)\n",
    "\n",
    "\n",
    "fig.add_trace(go.Bar(x=maker.index, y= maker.values), row =1 , col = 1)\n",
    "\n",
    "fig.update_layout(title='Car Makers', title_x=0.5, xaxis_title_text= None,xaxis_ticks=\"outside\",yaxis_title_text='Count',\n",
    "                  yaxis=dict(gridcolor='rgb(255, 255, 255)', gridwidth=3),paper_bgcolor='rgb(243, 243, 243)', \n",
    "                  plot_bgcolor='rgb(243, 243, 243)',height=500, width=900, showlegend=False, xaxis_tickangle=-90,\n",
    "                 margin=dict(l=10,r=10,b=50,t=50))\n",
    "\n",
    "# Update xaxis properties\n",
    "fig.update_xaxes(ticks=\"outside\")\n",
    "fig.update_yaxes(ticks=\"outside\", nticks=15)\n",
    "\n",
    "fig.update_traces(row = 1, col = 1, texttemplate = maker.values, textposition='outside', showlegend=False)\n",
    "\n",
    "fig.show()"
   ]
  },
  {
   "cell_type": "markdown",
   "id": "stable-station",
   "metadata": {
    "hidden": true
   },
   "source": [
    "- The top 10 car makers in the dataset are American and Asian car markers."
   ]
  },
  {
   "cell_type": "markdown",
   "id": "altered-headquarters",
   "metadata": {
    "heading_collapsed": true,
    "hidden": true
   },
   "source": [
    "#### ` Engine Size:`"
   ]
  },
  {
   "cell_type": "code",
   "execution_count": null,
   "id": "victorian-reaction",
   "metadata": {
    "hidden": true
   },
   "outputs": [],
   "source": [
    "fig = make_subplots(rows=1, cols=2)\n",
    "\n",
    "size_C = base.groupby(['Cylinder'])['Cylinder'].count().sort_values(ascending= False)\n",
    "size_D = base.groupby(['Displacement'])['Displacement'].count().sort_values(ascending= False)\n",
    "size_C.index = size_C.index.map(str)\n",
    "size_D.index = size_D.index.map(str)\n",
    "\n",
    "trace_12 = go.Bar(x=size_C.index, y = size_C.values,texttemplate = size_C.values, textposition='outside', \n",
    "                  hovertemplate ='Count: %{y}<br>'+ 'Cylinders: %{x}'+'<extra></extra>')\n",
    "trace_13 = go.Bar(x=size_D.index, y = size_D.values, \n",
    "                  hovertemplate ='Count: %{y}<br>'+ 'Displacement: %{x}'+'<extra></extra>')\n",
    "\n",
    "fig.update_layout(title='Engine Size', title_x=0.5, yaxis=dict(gridcolor='rgb(255, 255, 255)',gridwidth=3), \n",
    "                  paper_bgcolor='rgb(243, 243, 243)', plot_bgcolor='rgb(243, 243, 243)', \n",
    "                  height=400, width=900, showlegend=False, hovermode = 'x unified', margin=dict(l=10,r=10,b=50,t=50))\n",
    "\n",
    "fig.update_xaxes(title_text = 'Number of Cylinders', row=1, col=1, ticks=\"outside\",\n",
    "                showgrid=False,showline=True, linewidth=1, linecolor='gray', tickfont = dict(size = 10))\n",
    "\n",
    "fig.update_xaxes(title_text = 'Displacement', row=1, col=2,ticks=\"outside\", tickangle=-90,\n",
    "                showgrid=False,showline=True, linewidth=1, linecolor='gray', tickfont = dict(size = 10))\n",
    "\n",
    "fig.update_yaxes(row=1, col=1, nticks=15, ticks=\"outside\", title_text = 'Count')\n",
    "fig.update_yaxes(row=1, col=2, nticks=20, ticks=\"outside\")\n",
    "\n",
    "fig.append_trace(trace_12, 1, 1)\n",
    "fig.append_trace(trace_13, 1, 2)\n",
    "\n",
    "fig.show()"
   ]
  },
  {
   "cell_type": "markdown",
   "id": "worth-thickness",
   "metadata": {
    "hidden": true
   },
   "source": [
    "- The composition above show us that this dataset are composed mainly by cars with high engine size."
   ]
  },
  {
   "cell_type": "markdown",
   "id": "cognitive-tunisia",
   "metadata": {
    "heading_collapsed": true,
    "hidden": true
   },
   "source": [
    "#### ` Engine Driveline:`"
   ]
  },
  {
   "cell_type": "code",
   "execution_count": null,
   "id": "nutritional-framing",
   "metadata": {
    "hidden": true
   },
   "outputs": [],
   "source": [
    "fig = make_subplots(rows=1, cols=2, specs=[[{\"type\": \"bar\"}, {\"type\": \"pie\"}]], horizontal_spacing = 0.09)\n",
    "\n",
    "driveline = base.groupby(['Driveline'])['Driveline'].count().sort_values(ascending= False)\n",
    "\n",
    "colors = ['blue','red','green','purple']\n",
    "\n",
    "fig.add_trace(go.Bar(x=driveline.index, y= driveline.values, marker_color=colors), row = 1, col = 1)\n",
    "fig.add_trace(go.Pie(labels=driveline.index, values=driveline.values), row = 1 , col = 2)\n",
    "\n",
    "fig.update_layout(title='Engine Driveline', title_x=0.5, xaxis_title_text= None,xaxis_ticks=\"outside\",\n",
    "                  paper_bgcolor='rgb(243, 243, 243)', plot_bgcolor='rgb(243, 243, 243)', height=500, width=950, \n",
    "                  yaxis_visible=False)\n",
    "\n",
    "# Update xaxis properties\n",
    "fig.update_xaxes(row=1, col=1, nticks=15, ticks=\"outside\", tickangle=-30)\n",
    "\n",
    "fig.update_traces(row =1 , col = 1, texttemplate = driveline.values, textposition='outside', showlegend=False)\n",
    "fig.update_traces(row =1 , col = 2, marker=dict(colors=colors))\n",
    "\n",
    "fig.show()"
   ]
  },
  {
   "cell_type": "markdown",
   "id": "wired-smooth",
   "metadata": {
    "heading_collapsed": true,
    "hidden": true
   },
   "source": [
    "#### ` Fuel Information:`"
   ]
  },
  {
   "cell_type": "code",
   "execution_count": null,
   "id": "suspended-grocery",
   "metadata": {
    "hidden": true
   },
   "outputs": [],
   "source": [
    "fuel = base.groupby(['Fuel'])['Fuel'].count().sort_values(ascending= False)\n",
    "\n",
    "fig = make_subplots(rows=1, cols=2, specs=[[{\"type\": \"bar\"}, {\"type\": \"pie\"}]], horizontal_spacing = 0.09)\n",
    "\n",
    "colors = ['blue','red','green','purple']\n",
    "\n",
    "fig.add_trace(go.Bar(x=fuel.index, y= fuel.values, marker_color=colors), row = 1, col = 1)\n",
    "fig.add_trace(go.Pie(labels=fuel.index, values=fuel.values), row = 1 , col = 2)\n",
    "\n",
    "fig.update_layout(title='Fuel Information by Fuel Type', title_x=0.5, xaxis_title_text= None,xaxis_ticks=\"outside\",\n",
    "                  paper_bgcolor='rgb(243, 243, 243)', plot_bgcolor='rgb(243, 243, 243)', height=500, width=950, \n",
    "                  yaxis_visible=False)\n",
    "\n",
    "# Update xaxis properties\n",
    "fig.update_xaxes(row=1, col=1, nticks=15, ticks=\"outside\", tickangle=-30)\n",
    "\n",
    "fig.update_traces(row =1 , col = 1, texttemplate = fuel.values, textposition='outside', showlegend=False)\n",
    "fig.update_traces(row =1 , col = 2, marker=dict(colors=colors))\n",
    "\n",
    "fig.show()"
   ]
  },
  {
   "cell_type": "markdown",
   "id": "ahead-spotlight",
   "metadata": {
    "hidden": true
   },
   "source": [
    "- About 90% of the cars uses Gasoline as fuel. "
   ]
  },
  {
   "cell_type": "markdown",
   "id": "minus-transparency",
   "metadata": {
    "heading_collapsed": true,
    "hidden": true
   },
   "source": [
    "#### ` Engine Transmission:`"
   ]
  },
  {
   "cell_type": "code",
   "execution_count": null,
   "id": "british-garbage",
   "metadata": {
    "hidden": true
   },
   "outputs": [],
   "source": [
    "transmission = base.groupby(['Classification'])['Classification'].count().sort_values(ascending= False)\n",
    "\n",
    "fig = make_subplots(rows=1, cols=2, specs=[[{\"type\": \"bar\"}, {\"type\": \"pie\"}]], horizontal_spacing = 0.09)\n",
    "\n",
    "colors = ['blue','red']\n",
    "\n",
    "fig.add_trace(go.Bar(x=transmission.index, y= transmission.values, marker_color=colors), row = 1, col = 1)\n",
    "fig.add_trace(go.Pie(labels=transmission.index, values=transmission.values), row = 1 , col = 2)\n",
    "\n",
    "fig.update_layout(title='Engine Transmission by Type', title_x=0.5, xaxis_title_text= None,xaxis_ticks=\"outside\",\n",
    "                  paper_bgcolor='rgb(243, 243, 243)', plot_bgcolor='rgb(243, 243, 243)', height=500, width=950, \n",
    "                  yaxis_visible=False)\n",
    "\n",
    "# Update xaxis properties\n",
    "fig.update_xaxes(row=1, col=1, nticks=15, ticks=\"outside\", tickangle=-30)\n",
    "\n",
    "fig.update_traces(row =1 , col = 1, texttemplate = transmission.values, textposition='outside', showlegend=False)\n",
    "fig.update_traces(row =1 , col = 2, marker=dict(colors=colors))\n",
    "\n",
    "fig.show()"
   ]
  },
  {
   "cell_type": "markdown",
   "id": "august-ireland",
   "metadata": {
    "hidden": true
   },
   "source": [
    "- Most cars use Automatic transmission."
   ]
  },
  {
   "cell_type": "markdown",
   "id": "serious-appraisal",
   "metadata": {
    "heading_collapsed": true,
    "hidden": true
   },
   "source": [
    "#### ` Manufacturing Year:`"
   ]
  },
  {
   "cell_type": "code",
   "execution_count": null,
   "id": "induced-discipline",
   "metadata": {
    "hidden": true
   },
   "outputs": [],
   "source": [
    "fig = make_subplots(rows=1, cols=1)\n",
    "\n",
    "year = base.groupby(['Year'])['Year'].count().sort_values(ascending= False)\n",
    "year.index = year.index.map(str)\n",
    "\n",
    "fig.add_trace(go.Bar(x=year.index, y= year.values), row =1 , col = 1)\n",
    "\n",
    "fig.update_layout(title='Car Manufacturing Year', title_x=0.5, xaxis_title_text= None,xaxis_ticks=\"outside\",yaxis_title_text='Count',\n",
    "                  yaxis=dict(gridcolor='rgb(255, 255, 255)', gridwidth=3),paper_bgcolor='rgb(243, 243, 243)', \n",
    "                  plot_bgcolor='rgb(243, 243, 243)',height=400, width=600, showlegend=False, xaxis_tickangle=-90,\n",
    "                 margin=dict(l=10,r=10,b=50,t=50), yaxis_visible=False)\n",
    "\n",
    "fig.update_xaxes(ticks=\"outside\")\n",
    "\n",
    "fig.update_traces(row =1 , col = 1, texttemplate = year.values, textposition='outside', showlegend=False)\n",
    "\n",
    "fig.show()\n"
   ]
  },
  {
   "cell_type": "markdown",
   "id": "silver-heaven",
   "metadata": {
    "heading_collapsed": true
   },
   "source": [
    "## 6. Bivariate Analysis"
   ]
  },
  {
   "cell_type": "markdown",
   "id": "seventh-nickel",
   "metadata": {
    "heading_collapsed": true,
    "hidden": true
   },
   "source": [
    "### _Correlation Between Features - Heat Map_"
   ]
  },
  {
   "cell_type": "markdown",
   "id": "suitable-saturn",
   "metadata": {
    "hidden": true
   },
   "source": [
    "- One of the best way to find the relationship between the features can be done using heat maps. By the heat map below we can confirm that miles per gallon features depends mainly on the Horsepower, Cylinders, Torque and Displacement."
   ]
  },
  {
   "cell_type": "code",
   "execution_count": null,
   "id": "parental-collins",
   "metadata": {
    "hidden": true
   },
   "outputs": [],
   "source": [
    "plt.figure(figsize=(12,8))\n",
    "corr = base.corr(method='pearson')\n",
    "\n",
    "sns.heatmap(corr[(corr >= 0.5) | (corr <= -0.4)], annot=True, cmap= 'coolwarm', linewidths=.5, \n",
    "            fmt = '.2f', square = True, vmax=1.0, vmin=-1.0,annot_kws={\"size\": 10});"
   ]
  },
  {
   "cell_type": "markdown",
   "id": "pleased-guest",
   "metadata": {
    "hidden": true
   },
   "source": [
    "- There are high correlation between engine features (HP, Torque, Cylinder, Displacement) with fuel consumption (C MPG and H MPG)."
   ]
  },
  {
   "cell_type": "markdown",
   "id": "systematic-footwear",
   "metadata": {
    "heading_collapsed": true,
    "hidden": true
   },
   "source": [
    "### _Correlation Between Features - Scatterplot_"
   ]
  },
  {
   "cell_type": "markdown",
   "id": "usual-department",
   "metadata": {
    "heading_collapsed": true,
    "hidden": true
   },
   "source": [
    "#### `Fuel Consumption vs Engine Power`"
   ]
  },
  {
   "cell_type": "code",
   "execution_count": null,
   "id": "bearing-relaxation",
   "metadata": {
    "hidden": true
   },
   "outputs": [],
   "source": [
    "fig = go.Figure(data=go.Splom(dimensions=[dict(label='City MPG', values=base['C_MPG']), dict(label='Highway MPG',\n",
    "                values= base['H_MPG']), dict(label='Horsepower', values= base['HP']),dict(label='Torque',\n",
    "                values=base['Torque'])],diagonal_visible=False, showupperhalf=False,\n",
    "                marker=dict(showscale=False, line_color='blue', line_width=0.5)))\n",
    "\n",
    "fig.update_layout(title='Fuel Consumption vs Engine Power', title_x=0.5,dragmode='select', paper_bgcolor='rgb(243, 243, 243)',\n",
    "        plot_bgcolor='rgb(200, 200, 200)',height=500, width=900, margin=dict(l=20,r=0,b=20,t=50), hovermode='closest')\n",
    "\n",
    "fig.show()"
   ]
  },
  {
   "cell_type": "markdown",
   "id": "about-transcript",
   "metadata": {
    "hidden": true
   },
   "source": [
    "- As expected, the larger the power of the car engine, the greater the fuel consumption.\n",
    "- Also, we can see a high correlation between the engine power features."
   ]
  },
  {
   "cell_type": "markdown",
   "id": "random-access",
   "metadata": {
    "heading_collapsed": true,
    "hidden": true
   },
   "source": [
    "#### `Fuel Consumption vs Engine Size `"
   ]
  },
  {
   "cell_type": "code",
   "execution_count": null,
   "id": "fabulous-proof",
   "metadata": {
    "hidden": true
   },
   "outputs": [],
   "source": [
    "fig = go.Figure(data=go.Splom(dimensions=[dict(label='City MPG', values=base['C_MPG']), dict(label='Highway MPG',\n",
    "                values= base['H_MPG']), dict(label='Cylinder', values= base['Cylinder']),dict(label='Displacement',\n",
    "                values=base['Displacement'])],diagonal_visible=False, showupperhalf=False,\n",
    "                marker=dict(showscale=False, line_color='blue', line_width=0.5)))\n",
    "\n",
    "fig.update_layout(title='Features Correlation', title_x=0.5,dragmode='select', paper_bgcolor='rgb(243, 243, 243)',\n",
    "        plot_bgcolor='rgb(200, 200, 200)',height=500, width=900, margin=dict(l=20,r=0,b=20,t=50), hovermode='closest')\n",
    "\n",
    "fig.show()"
   ]
  },
  {
   "cell_type": "markdown",
   "id": "hidden-fundamentals",
   "metadata": {
    "hidden": true
   },
   "source": [
    "- As expected, the larger the size of the car engine, the greater the fuel consumption."
   ]
  },
  {
   "cell_type": "markdown",
   "id": "eight-dubai",
   "metadata": {
    "heading_collapsed": true,
    "hidden": true
   },
   "source": [
    "### _Analyses Betwen Two Variables - Bar Chart_"
   ]
  },
  {
   "cell_type": "markdown",
   "id": "insured-dylan",
   "metadata": {
    "heading_collapsed": true,
    "hidden": true
   },
   "source": [
    "#### `Horsepower/Torque vs Makers `"
   ]
  },
  {
   "cell_type": "code",
   "execution_count": null,
   "id": "religious-truck",
   "metadata": {
    "hidden": true,
    "scrolled": false
   },
   "outputs": [],
   "source": [
    "fig = make_subplots(rows=2, cols=1)\n",
    "\n",
    "hp_maker = base.groupby(['Make'])['HP'].mean().sort_values(ascending= False)\n",
    "t_maker = base.groupby(['Make'])['Torque'].mean().sort_values(ascending= False)\n",
    "\n",
    "trace_14 = go.Bar(x=hp_maker.index, y= hp_maker.values)\n",
    "trace_15 = go.Bar(x=t_maker.index, y= t_maker.values)\n",
    "\n",
    "fig.update_layout(title='Mean Horsepower/Torque by Car Makers', title_x=0.5, xaxis_title_text= None,xaxis_ticks=\"outside\",\n",
    "                  yaxis_title_text='Count', yaxis=dict(gridcolor='rgb(255, 255, 255)', gridwidth=3),\n",
    "                  paper_bgcolor='rgb(243, 243, 243)',plot_bgcolor='rgb(243, 243, 243)',height=1000, width=900,\n",
    "                  showlegend=False, xaxis_tickangle=-90, margin=dict(l=10,r=10,b=50,t=50))\n",
    "\n",
    "fig.update_xaxes(row=1, col=1, ticks=\"outside\",rangemode=\"tozero\",\n",
    "                showgrid=False,showline=True, linewidth=1, linecolor='gray', tickangle=-90)\n",
    "\n",
    "fig.update_xaxes(row=2, col=1, ticks=\"outside\", rangemode=\"tozero\",\n",
    "                showgrid=False, showline=True, linewidth=1, linecolor='gray', showspikes=True, tickangle=-90)\n",
    "\n",
    "fig.update_yaxes(title_text = 'Horsepower', row=1, col=1, nticks=20, ticks=\"outside\")\n",
    "fig.update_yaxes(title_text = 'Torque', row=2, col=1, nticks=20, ticks=\"outside\")\n",
    "\n",
    "fig.append_trace(trace_14, 1, 1)\n",
    "fig.append_trace(trace_15, 2, 1)\n",
    "\n",
    "fig.show()"
   ]
  },
  {
   "cell_type": "markdown",
   "id": "stylish-cursor",
   "metadata": {
    "hidden": true
   },
   "source": [
    "- The top makers with the greater Horsepower and Torque are in the business of luxury and sports cars"
   ]
  },
  {
   "cell_type": "markdown",
   "id": "italic-washington",
   "metadata": {
    "heading_collapsed": true,
    "hidden": true
   },
   "source": [
    "#### `Fuel Consumption vs Makers `"
   ]
  },
  {
   "cell_type": "code",
   "execution_count": null,
   "id": "limiting-beijing",
   "metadata": {
    "hidden": true,
    "scrolled": false
   },
   "outputs": [],
   "source": [
    "fig = make_subplots(rows=2, cols=1)\n",
    "\n",
    "c_maker = base.groupby(['Make'])['C_MPG'].mean().sort_values(ascending= False)\n",
    "h_maker = base.groupby(['Make'])['H_MPG'].mean().sort_values(ascending= False)\n",
    "\n",
    "trace_15 = go.Bar(x=c_maker.index, y= c_maker.values)\n",
    "trace_16 = go.Bar(x=h_maker.index, y= h_maker.values)\n",
    "\n",
    "fig.update_layout(title='Mean MPG by Car Makers', title_x=0.5, xaxis_title_text= None,xaxis_ticks=\"outside\",\n",
    "                  yaxis_title_text='Count', yaxis=dict(gridcolor='rgb(255, 255, 255)', gridwidth=3),\n",
    "                  paper_bgcolor='rgb(243, 243, 243)',plot_bgcolor='rgb(243, 243, 243)',height=1000, width=900,\n",
    "                  showlegend=False, xaxis_tickangle=-90, margin=dict(l=10,r=10,b=50,t=50))\n",
    "\n",
    "fig.update_xaxes(row=1, col=1, ticks=\"outside\",rangemode=\"tozero\",\n",
    "                showgrid=False,showline=True, linewidth=1, linecolor='gray', tickangle=-90)\n",
    "\n",
    "fig.update_xaxes(row=2, col=1, ticks=\"outside\", rangemode=\"tozero\",\n",
    "                showgrid=False, showline=True, linewidth=1, linecolor='gray', showspikes=True, tickangle=-90)\n",
    "\n",
    "fig.update_yaxes(title_text = 'City MPG', row=1, col=1, nticks=20, ticks=\"outside\")\n",
    "fig.update_yaxes(title_text = 'Highway MPG', row=2, col=1, nticks=20, ticks=\"outside\")\n",
    "\n",
    "fig.append_trace(trace_15, 1, 1)\n",
    "fig.append_trace(trace_16, 2, 1)\n",
    "\n",
    "fig.show()"
   ]
  },
  {
   "cell_type": "markdown",
   "id": "peripheral-indonesia",
   "metadata": {
    "hidden": true
   },
   "source": [
    "- With the exception of MINI and Volkswagen, the longest-running cars are Asian manufacturers."
   ]
  },
  {
   "cell_type": "markdown",
   "id": "living-flour",
   "metadata": {
    "heading_collapsed": true
   },
   "source": [
    "## 7. Multivariate Analysis"
   ]
  },
  {
   "cell_type": "markdown",
   "id": "orange-litigation",
   "metadata": {
    "heading_collapsed": true,
    "hidden": true
   },
   "source": [
    "### _Analyses Betwen Multiples Variables - Scatter Plot_"
   ]
  },
  {
   "cell_type": "markdown",
   "id": "italian-breakfast",
   "metadata": {
    "heading_collapsed": true,
    "hidden": true
   },
   "source": [
    "#### `Horsepower vs Torque by Manufacturing Year`"
   ]
  },
  {
   "cell_type": "code",
   "execution_count": null,
   "id": "characteristic-halifax",
   "metadata": {
    "hidden": true
   },
   "outputs": [],
   "source": [
    "fig = px.scatter(base.sort_values(by='Year', ascending=True), x=\"Torque\", y=\"HP\", facet_col=\"Year\", \n",
    "                 hover_data=['ID','Cylinder'])\n",
    "fig.update_xaxes(fixedrange=True)\n",
    "\n",
    "fig.update_layout(title='HP vs Torque by Year', title_x=0.5, yaxis=dict(gridcolor='rgb(255, 255, 255)',gridwidth=3), \n",
    "                  plot_bgcolor='rgb(243, 243, 243)', margin=dict(l=10,r=10,b=50,t=80),\n",
    "                  height=500, width=900, showlegend=False)\n",
    "\n",
    "fig.update_xaxes(ticks=\"outside\", rangemode=\"tozero\", nticks=15, tickangle=-90)\n",
    "fig.update_yaxes(ticks=\"outside\", nticks=20)\n",
    "\n",
    "fig.show()"
   ]
  },
  {
   "cell_type": "markdown",
   "id": "married-adams",
   "metadata": {
    "heading_collapsed": true,
    "hidden": true
   },
   "source": [
    "#### `Horsepower vs Torque by Gears`"
   ]
  },
  {
   "cell_type": "code",
   "execution_count": null,
   "id": "fifty-stress",
   "metadata": {
    "hidden": true
   },
   "outputs": [],
   "source": [
    "fig = px.scatter(base.sort_values(by='Gears', ascending=True), x=\"Torque\", y=\"HP\", facet_col=\"Gears\", \n",
    "                 hover_data=['ID'])\n",
    "fig.update_xaxes(fixedrange=True)\n",
    "\n",
    "fig.update_layout(title='HP vs Torque by Gears', title_x=0.5, yaxis=dict(gridcolor='rgb(255, 255, 255)',gridwidth=3), \n",
    "                  plot_bgcolor='rgb(243, 243, 243)', margin=dict(l=10,r=10,b=50,t=80),\n",
    "                  height=500, width=900, showlegend=False)\n",
    "\n",
    "fig.update_xaxes(ticks=\"outside\", rangemode=\"tozero\", nticks=12)\n",
    "fig.update_yaxes(ticks=\"outside\", nticks=20)\n",
    "\n",
    "fig.show()"
   ]
  },
  {
   "cell_type": "markdown",
   "id": "processed-television",
   "metadata": {
    "heading_collapsed": true,
    "hidden": true
   },
   "source": [
    "#### `Cylinder vs Displacement by Manufacturing Year`"
   ]
  },
  {
   "cell_type": "code",
   "execution_count": null,
   "id": "narrative-nightlife",
   "metadata": {
    "hidden": true
   },
   "outputs": [],
   "source": [
    "fig = px.scatter(base.sort_values(by='Year', ascending=True), x=\"Cylinder\", y=\"Displacement\", facet_col=\"Year\", \n",
    "                 hover_data=['ID','C_MPG','H_MPG'])\n",
    "fig.update_xaxes(fixedrange=True)\n",
    "\n",
    "fig.update_layout(title='Cylinder vs Displacement by Year', title_x=0.5, yaxis=dict(gridcolor='rgb(255, 255, 255)',gridwidth=3), \n",
    "                  plot_bgcolor='rgb(243, 243, 243)', margin=dict(l=10,r=10,b=50,t=80),\n",
    "                  height=500, width=900, showlegend=False)\n",
    "\n",
    "fig.update_xaxes(ticks=\"outside\", rangemode=\"tozero\", nticks=12, tickangle=-90)\n",
    "fig.update_yaxes(ticks=\"outside\", nticks=10)\n",
    "\n",
    "fig.show()"
   ]
  },
  {
   "cell_type": "markdown",
   "id": "seven-berkeley",
   "metadata": {
    "heading_collapsed": true,
    "hidden": true
   },
   "source": [
    "#### `Fuel Consumption vs Horsepower by Manufacturing Year`"
   ]
  },
  {
   "cell_type": "code",
   "execution_count": null,
   "id": "conceptual-composite",
   "metadata": {
    "hidden": true
   },
   "outputs": [],
   "source": [
    "fig = px.scatter(base.sort_values(by='Year', ascending=True), x=\"HP\", y=\"C_MPG\", facet_col=\"Year\", \n",
    "                 hover_data=['ID','Torque'])\n",
    "fig.update_xaxes(fixedrange=True)\n",
    "\n",
    "fig.update_layout(title='City MPG vs HP by Year', title_x=0.5, yaxis=dict(gridcolor='rgb(255, 255, 255)',gridwidth=3), \n",
    "                  plot_bgcolor='rgb(243, 243, 243)', margin=dict(l=10,r=10,b=50,t=80),\n",
    "                  height=500, width=900, showlegend=False)\n",
    "\n",
    "fig.update_xaxes(ticks=\"outside\", rangemode=\"tozero\", nticks=12)\n",
    "fig.update_yaxes(ticks=\"outside\", nticks=20)\n",
    "\n",
    "fig.show()"
   ]
  },
  {
   "cell_type": "markdown",
   "id": "bigger-tattoo",
   "metadata": {
    "heading_collapsed": true,
    "hidden": true
   },
   "source": [
    "#### `Torque vs Horsepower vs Cylinder vs Manufacturing Year`"
   ]
  },
  {
   "cell_type": "code",
   "execution_count": null,
   "id": "growing-board",
   "metadata": {
    "hidden": true
   },
   "outputs": [],
   "source": [
    "m_y = base.sort_values(by='Year', ascending=True)\n",
    "m_y.Year = m_y.Year.map(str)\n",
    "\n",
    "fig = px.scatter(m_y, x = 'HP', y = 'Torque', color = 'Year', \n",
    "                 size='Cylinder', hover_data=['ID','Displacement'], opacity=0.6)\n",
    "\n",
    "fig.update_layout(title='Torque vs HP by Year', title_x=0.5, margin=dict(l=10,r=10,b=50,t=80),\n",
    "                  height=500, width=900)\n",
    "\n",
    "fig.update_xaxes(ticks=\"outside\", rangemode=\"tozero\", nticks=20)\n",
    "fig.update_yaxes(ticks=\"outside\", rangemode=\"tozero\", nticks=20)\n",
    "\n",
    "\n",
    "fig.show()"
   ]
  },
  {
   "cell_type": "markdown",
   "id": "fabulous-northern",
   "metadata": {
    "heading_collapsed": true,
    "hidden": true
   },
   "source": [
    "#### `Fuel Efficiency`"
   ]
  },
  {
   "cell_type": "code",
   "execution_count": null,
   "id": "ready-charge",
   "metadata": {
    "hidden": true,
    "scrolled": false
   },
   "outputs": [],
   "source": [
    "fig = px.scatter(base.sort_values(by='Year', ascending=True), x = 'C_MPG', y = 'H_MPG', color = 'Fuel', \n",
    "                 size='HP', hover_data=['Torque','ID','Displacement','Cylinder'], opacity=0.4)\n",
    "\n",
    "fig.update_layout(title='Fuel Efficiency', title_x=0.5, margin=dict(l=10,r=10,b=50,t=80),\n",
    "                  height=500, width=900)\n",
    "\n",
    "fig.update_xaxes(ticks=\"outside\", rangemode=\"tozero\", nticks=20)\n",
    "fig.update_yaxes(ticks=\"outside\", rangemode=\"tozero\", nticks=20)\n",
    "\n",
    "\n",
    "fig.show()"
   ]
  },
  {
   "cell_type": "code",
   "execution_count": null,
   "id": "little-productivity",
   "metadata": {
    "hidden": true
   },
   "outputs": [],
   "source": [
    "hmt_c = base.sort_values(by='Cylinder', ascending=True)\n",
    "hmt_c.Cylinder = hmt_c.Cylinder.map(str)\n",
    "fig = px.scatter(hmt_c, x = 'Torque', y = 'H_MPG', color = 'Cylinder', size='HP', hover_data=['Make'],opacity=0.6)\n",
    "fig.show()"
   ]
  },
  {
   "cell_type": "code",
   "execution_count": null,
   "id": "defensive-pleasure",
   "metadata": {
    "hidden": true
   },
   "outputs": [],
   "source": [
    "cmt_c = base.sort_values(by='Cylinder', ascending=True)\n",
    "cmt_c.Cylinder = cmt_c.Cylinder.map(str)\n",
    "fig = px.scatter(cmt_c, x = 'Torque', y = 'C_MPG', color = 'Cylinder', size='HP', hover_data=['Make'], opacity=0.6)\n",
    "fig.show()"
   ]
  },
  {
   "cell_type": "code",
   "execution_count": null,
   "id": "strategic-italian",
   "metadata": {
    "hidden": true
   },
   "outputs": [],
   "source": [
    "fig = px.scatter_3d(base, x='HP', y='Torque', z='Cylinder', color='Fuel', opacity=0.7, width=800, height=600,\n",
    "                    hover_data=['ID'], size_max=25)\n",
    "\n",
    "fig.update_layout(title='HP vs Torque by Year', title_x=0.5,margin=dict(l=0, r=0, b=0, t=0))\n",
    "\n",
    "\n",
    "fig.show()"
   ]
  },
  {
   "cell_type": "markdown",
   "id": "attached-point",
   "metadata": {
    "heading_collapsed": true
   },
   "source": [
    "## 8. Conclusion"
   ]
  },
  {
   "cell_type": "markdown",
   "id": "possible-alloy",
   "metadata": {
    "hidden": true
   },
   "source": [
    "<font size=\"3\">\n",
    "    \n",
    "- The dataset are composed mainly by cars with high fuel consumption (Average of 17,0 MPG on city and 24,0 MPG on Highway).\n",
    "- High performance engines. So as expected, the larger the power of the car engine, the greater the fuel consumption.\n",
    "- All three dimensions (Height, Length and Width) have a lot of incorrect data inputs, so we couldn't do a deeper analysis.\n",
    "- About 90% of the cars uses Gasoline as fuel. \n",
    "- Most cars use Automatic transmission.\n",
    "- High correlation between the engine power features.\n",
    "- The top makers with the greater Horsepower and Torque are in the business of luxury and sports cars\n",
    "- Most fuel economy cars are Asian manufacturers."
   ]
  }
 ],
 "metadata": {
  "kernelspec": {
   "display_name": "Python 3",
   "language": "python",
   "name": "python3"
  },
  "language_info": {
   "codemirror_mode": {
    "name": "ipython",
    "version": 3
   },
   "file_extension": ".py",
   "mimetype": "text/x-python",
   "name": "python",
   "nbconvert_exporter": "python",
   "pygments_lexer": "ipython3",
   "version": "3.8.2"
  },
  "varInspector": {
   "cols": {
    "lenName": 16,
    "lenType": 16,
    "lenVar": 40
   },
   "kernels_config": {
    "python": {
     "delete_cmd_postfix": "",
     "delete_cmd_prefix": "del ",
     "library": "var_list.py",
     "varRefreshCmd": "print(var_dic_list())"
    },
    "r": {
     "delete_cmd_postfix": ") ",
     "delete_cmd_prefix": "rm(",
     "library": "var_list.r",
     "varRefreshCmd": "cat(var_dic_list()) "
    }
   },
   "types_to_exclude": [
    "module",
    "function",
    "builtin_function_or_method",
    "instance",
    "_Feature"
   ],
   "window_display": false
  }
 },
 "nbformat": 4,
 "nbformat_minor": 5
}
